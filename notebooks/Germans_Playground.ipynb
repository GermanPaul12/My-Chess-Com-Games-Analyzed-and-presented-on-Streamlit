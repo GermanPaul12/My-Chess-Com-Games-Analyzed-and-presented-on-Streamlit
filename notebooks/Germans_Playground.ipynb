{
 "cells": [
  {
   "cell_type": "code",
   "execution_count": 1,
   "metadata": {},
   "outputs": [],
   "source": [
    "import pandas as pd\n",
    "import numpy as np\n",
    "import matplotlib.pyplot as plt\n",
    "import plotly.express as px"
   ]
  },
  {
   "cell_type": "code",
   "execution_count": 2,
   "metadata": {},
   "outputs": [
    {
     "data": {
      "text/html": [
       "<div>\n",
       "<style scoped>\n",
       "    .dataframe tbody tr th:only-of-type {\n",
       "        vertical-align: middle;\n",
       "    }\n",
       "\n",
       "    .dataframe tbody tr th {\n",
       "        vertical-align: top;\n",
       "    }\n",
       "\n",
       "    .dataframe thead th {\n",
       "        text-align: right;\n",
       "    }\n",
       "</style>\n",
       "<table border=\"1\" class=\"dataframe\">\n",
       "  <thead>\n",
       "    <tr style=\"text-align: right;\">\n",
       "      <th></th>\n",
       "      <th>month</th>\n",
       "      <th>year</th>\n",
       "      <th>url</th>\n",
       "      <th>pgn</th>\n",
       "      <th>time_control</th>\n",
       "      <th>rated</th>\n",
       "      <th>time_class</th>\n",
       "      <th>rules</th>\n",
       "      <th>white_rating</th>\n",
       "      <th>white_result</th>\n",
       "      <th>white_username</th>\n",
       "      <th>black_rating</th>\n",
       "      <th>black_result</th>\n",
       "      <th>black_username</th>\n",
       "    </tr>\n",
       "    <tr>\n",
       "      <th>id</th>\n",
       "      <th></th>\n",
       "      <th></th>\n",
       "      <th></th>\n",
       "      <th></th>\n",
       "      <th></th>\n",
       "      <th></th>\n",
       "      <th></th>\n",
       "      <th></th>\n",
       "      <th></th>\n",
       "      <th></th>\n",
       "      <th></th>\n",
       "      <th></th>\n",
       "      <th></th>\n",
       "      <th></th>\n",
       "    </tr>\n",
       "  </thead>\n",
       "  <tbody>\n",
       "    <tr>\n",
       "      <th>0</th>\n",
       "      <td>12</td>\n",
       "      <td>2018</td>\n",
       "      <td>https://www.chess.com/game/daily/213688986</td>\n",
       "      <td>[Event \"Let's Play!\"]\\r\\n[Site \"Chess.com\"]\\r\\...</td>\n",
       "      <td>1/259200</td>\n",
       "      <td>True</td>\n",
       "      <td>daily</td>\n",
       "      <td>chess</td>\n",
       "      <td>1073</td>\n",
       "      <td>checkmated</td>\n",
       "      <td>DyrektorInterneta</td>\n",
       "      <td>1198</td>\n",
       "      <td>win</td>\n",
       "      <td>CodingGambit</td>\n",
       "    </tr>\n",
       "    <tr>\n",
       "      <th>1</th>\n",
       "      <td>12</td>\n",
       "      <td>2018</td>\n",
       "      <td>https://www.chess.com/game/daily/213790380</td>\n",
       "      <td>[Event \"Let's Play!\"]\\r\\n[Site \"Chess.com\"]\\r\\...</td>\n",
       "      <td>1/259200</td>\n",
       "      <td>True</td>\n",
       "      <td>daily</td>\n",
       "      <td>chess</td>\n",
       "      <td>1038</td>\n",
       "      <td>win</td>\n",
       "      <td>Petz68</td>\n",
       "      <td>1032</td>\n",
       "      <td>resigned</td>\n",
       "      <td>CodingGambit</td>\n",
       "    </tr>\n",
       "    <tr>\n",
       "      <th>2</th>\n",
       "      <td>12</td>\n",
       "      <td>2018</td>\n",
       "      <td>https://www.chess.com/game/daily/213688978</td>\n",
       "      <td>[Event \"Let's Play!\"]\\r\\n[Site \"Chess.com\"]\\r\\...</td>\n",
       "      <td>1/259200</td>\n",
       "      <td>True</td>\n",
       "      <td>daily</td>\n",
       "      <td>chess</td>\n",
       "      <td>1102</td>\n",
       "      <td>win</td>\n",
       "      <td>CodingGambit</td>\n",
       "      <td>941</td>\n",
       "      <td>checkmated</td>\n",
       "      <td>Hidde35</td>\n",
       "    </tr>\n",
       "    <tr>\n",
       "      <th>3</th>\n",
       "      <td>1</td>\n",
       "      <td>2019</td>\n",
       "      <td>https://www.chess.com/game/daily/213819732</td>\n",
       "      <td>[Event \"Let's Play!\"]\\r\\n[Site \"Chess.com\"]\\r\\...</td>\n",
       "      <td>1/86400</td>\n",
       "      <td>True</td>\n",
       "      <td>daily</td>\n",
       "      <td>chess</td>\n",
       "      <td>913</td>\n",
       "      <td>win</td>\n",
       "      <td>Dgrayson64</td>\n",
       "      <td>989</td>\n",
       "      <td>timeout</td>\n",
       "      <td>CodingGambit</td>\n",
       "    </tr>\n",
       "    <tr>\n",
       "      <th>4</th>\n",
       "      <td>1</td>\n",
       "      <td>2019</td>\n",
       "      <td>https://www.chess.com/game/daily/213820378</td>\n",
       "      <td>[Event \"Let's Play!\"]\\r\\n[Site \"Chess.com\"]\\r\\...</td>\n",
       "      <td>1/86400</td>\n",
       "      <td>True</td>\n",
       "      <td>daily</td>\n",
       "      <td>chess</td>\n",
       "      <td>971</td>\n",
       "      <td>timeout</td>\n",
       "      <td>CodingGambit</td>\n",
       "      <td>1312</td>\n",
       "      <td>win</td>\n",
       "      <td>piszke</td>\n",
       "    </tr>\n",
       "  </tbody>\n",
       "</table>\n",
       "</div>"
      ],
      "text/plain": [
       "    month  year                                         url  \\\n",
       "id                                                            \n",
       "0      12  2018  https://www.chess.com/game/daily/213688986   \n",
       "1      12  2018  https://www.chess.com/game/daily/213790380   \n",
       "2      12  2018  https://www.chess.com/game/daily/213688978   \n",
       "3       1  2019  https://www.chess.com/game/daily/213819732   \n",
       "4       1  2019  https://www.chess.com/game/daily/213820378   \n",
       "\n",
       "                                                  pgn time_control  rated  \\\n",
       "id                                                                          \n",
       "0   [Event \"Let's Play!\"]\\r\\n[Site \"Chess.com\"]\\r\\...     1/259200   True   \n",
       "1   [Event \"Let's Play!\"]\\r\\n[Site \"Chess.com\"]\\r\\...     1/259200   True   \n",
       "2   [Event \"Let's Play!\"]\\r\\n[Site \"Chess.com\"]\\r\\...     1/259200   True   \n",
       "3   [Event \"Let's Play!\"]\\r\\n[Site \"Chess.com\"]\\r\\...      1/86400   True   \n",
       "4   [Event \"Let's Play!\"]\\r\\n[Site \"Chess.com\"]\\r\\...      1/86400   True   \n",
       "\n",
       "   time_class  rules  white_rating white_result     white_username  \\\n",
       "id                                                                   \n",
       "0       daily  chess          1073   checkmated  DyrektorInterneta   \n",
       "1       daily  chess          1038          win             Petz68   \n",
       "2       daily  chess          1102          win       CodingGambit   \n",
       "3       daily  chess           913          win         Dgrayson64   \n",
       "4       daily  chess           971      timeout       CodingGambit   \n",
       "\n",
       "    black_rating black_result black_username  \n",
       "id                                            \n",
       "0           1198          win   CodingGambit  \n",
       "1           1032     resigned   CodingGambit  \n",
       "2            941   checkmated        Hidde35  \n",
       "3            989      timeout   CodingGambit  \n",
       "4           1312          win         piszke  "
      ]
     },
     "execution_count": 2,
     "metadata": {},
     "output_type": "execute_result"
    }
   ],
   "source": [
    "df = pd.read_csv(\"../data/data.csv\", index_col=0)\n",
    "df.head()"
   ]
  },
  {
   "cell_type": "code",
   "execution_count": 3,
   "metadata": {},
   "outputs": [
    {
     "name": "stdout",
     "output_type": "stream",
     "text": [
      "<class 'pandas.core.frame.DataFrame'>\n",
      "Int64Index: 3830 entries, 0 to 3829\n",
      "Data columns (total 14 columns):\n",
      " #   Column          Non-Null Count  Dtype \n",
      "---  ------          --------------  ----- \n",
      " 0   month           3830 non-null   int64 \n",
      " 1   year            3830 non-null   int64 \n",
      " 2   url             3830 non-null   object\n",
      " 3   pgn             3830 non-null   object\n",
      " 4   time_control    3830 non-null   object\n",
      " 5   rated           3830 non-null   bool  \n",
      " 6   time_class      3830 non-null   object\n",
      " 7   rules           3830 non-null   object\n",
      " 8   white_rating    3830 non-null   int64 \n",
      " 9   white_result    3830 non-null   object\n",
      " 10  white_username  3830 non-null   object\n",
      " 11  black_rating    3830 non-null   int64 \n",
      " 12  black_result    3830 non-null   object\n",
      " 13  black_username  3830 non-null   object\n",
      "dtypes: bool(1), int64(4), object(9)\n",
      "memory usage: 422.6+ KB\n"
     ]
    }
   ],
   "source": [
    "df.info()"
   ]
  },
  {
   "cell_type": "code",
   "execution_count": 4,
   "metadata": {},
   "outputs": [
    {
     "data": {
      "text/plain": [
       "True     3679\n",
       "False     151\n",
       "Name: rated, dtype: int64"
      ]
     },
     "execution_count": 4,
     "metadata": {},
     "output_type": "execute_result"
    }
   ],
   "source": [
    "df.rated.value_counts()"
   ]
  },
  {
   "cell_type": "code",
   "execution_count": 5,
   "metadata": {},
   "outputs": [
    {
     "data": {
      "text/plain": [
       "chess         3814\n",
       "chess960        12\n",
       "threecheck       4\n",
       "Name: rules, dtype: int64"
      ]
     },
     "execution_count": 5,
     "metadata": {},
     "output_type": "execute_result"
    }
   ],
   "source": [
    "df.rules.value_counts()"
   ]
  },
  {
   "cell_type": "code",
   "execution_count": 19,
   "metadata": {},
   "outputs": [
    {
     "name": "stdout",
     "output_type": "stream",
     "text": [
      "burakhd         52\n",
      "Finnatic        42\n",
      "Lyxarios        13\n",
      "jannisritter     9\n",
      "ravibihani       9\n",
      "Name: white_username, dtype: int64\n"
     ]
    }
   ],
   "source": [
    "opps = df.white_username.value_counts()\n",
    "for name,val in df.black_username.value_counts().items():\n",
    "    if name in opps:\n",
    "        opps[name] += val\n",
    "    else: opps[name] = val    \n",
    "print(opps[1:6])"
   ]
  },
  {
   "cell_type": "code",
   "execution_count": 34,
   "metadata": {},
   "outputs": [
    {
     "name": "stdout",
     "output_type": "stream",
     "text": [
      "2 minutes + 1 seconds increment\n",
      "3 minutes + 2 seconds increment\n",
      "5 minutes + 5 seconds increment\n",
      "10 minutes\n",
      "1.0 days per turn\n",
      "15 minutes + 10 seconds increment\n",
      "3.0 days per turn\n",
      "5 minutes\n",
      "1 minutes\n",
      "3 minutes\n",
      "10 minutes + 5 seconds increment\n",
      "14.0 days per turn\n",
      "7.0 days per turn\n",
      "1 minutes + 1 seconds increment\n",
      "10.0 days per turn\n",
      "2 minutes + 3 seconds increment\n",
      "30 minutes\n",
      "5 minutes + 2 seconds increment\n",
      "5 minutes + 3 seconds increment\n",
      "5.0 days per turn\n",
      "2.0 days per turn\n"
     ]
    }
   ],
   "source": [
    "for time_control, count in df.time_control.value_counts().items():\n",
    "    if \"+\" in time_control:\n",
    "        times = time_control.split(\"+\")\n",
    "        mins = int(times[0]) // 60\n",
    "        secs = int(times[1])\n",
    "        print(f\"{mins} minutes + {secs} {\"seconds\" if secs > 1 else \"second\"} increment\")\n",
    "    elif \"/\" in time_control:\n",
    "        days = int(time_control.split(\"/\")[1]) / 60 / 60 /24\n",
    "        print(f\"{days} days per turn\")\n",
    "    else:\n",
    "        print(f\"{int(time_control) // 60} minutes\")      "
   ]
  },
  {
   "cell_type": "code",
   "execution_count": 28,
   "metadata": {},
   "outputs": [
    {
     "name": "stdout",
     "output_type": "stream",
     "text": [
      "blitz 1642\n",
      "bullet 1454\n",
      "rapid 388\n",
      "daily 346\n"
     ]
    }
   ],
   "source": [
    "for time_format, count in df.time_class.value_counts().items():\n",
    "    print(time_format, count)"
   ]
  },
  {
   "cell_type": "code",
   "execution_count": null,
   "metadata": {},
   "outputs": [],
   "source": []
  }
 ],
 "metadata": {
  "kernelspec": {
   "display_name": "venv",
   "language": "python",
   "name": "python3"
  },
  "language_info": {
   "codemirror_mode": {
    "name": "ipython",
    "version": 3
   },
   "file_extension": ".py",
   "mimetype": "text/x-python",
   "name": "python",
   "nbconvert_exporter": "python",
   "pygments_lexer": "ipython3",
   "version": "3.11.5"
  }
 },
 "nbformat": 4,
 "nbformat_minor": 2
}
